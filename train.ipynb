{
 "cells": [
  {
   "cell_type": "markdown",
   "metadata": {},
   "source": [
    "# Training SODA encoder\n",
    "\n",
    "Code for training our implementation of [SODA](https://arxiv.org/abs/2311.17901) encoder on a variation of the [Deepmind's 3D-Shapes Dataset](https://github.com/google-deepmind/3d-shapes).\n",
    "\n",
    "First, as the authors mention in the paper, the latent representation of the image is derived by a [ResNet](https://arxiv.org/pdf/1512.03385) encoder (Hudson, et al., 2023). in this case we are going to train a **ResNet18 to predict the latent representations of the images dataset**. Our implementation of ResNet is based in the [Pytorch Resnet Module Source Code](https://github.com/pytorch/vision/blob/main/torchvision/models/resnet.py). So we are not using any of the pretrained ResNet models from PuTorch."
   ]
  },
  {
   "cell_type": "markdown",
   "metadata": {},
   "source": [
    "## Load Data\n",
    "\n",
    "To start the training of the network we first load the data from the H5 files."
   ]
  },
  {
   "cell_type": "code",
   "execution_count": 1,
   "metadata": {},
   "outputs": [],
   "source": [
    "import os\n",
    "import h5py\n",
    "import csv\n",
    "import numpy as np\n",
    "import matplotlib.pyplot as plt\n",
    "import torch\n",
    "import torch.nn as nn\n",
    "import time\n",
    "from tqdm import tqdm\n",
    "import itertools"
   ]
  },
  {
   "cell_type": "markdown",
   "metadata": {},
   "source": [
    "Define data directories."
   ]
  },
  {
   "cell_type": "code",
   "execution_count": 2,
   "metadata": {},
   "outputs": [],
   "source": [
    "data_directory: str = \"data\"\n",
    "train_file_name: str = \"3dshapes_abstraction_train.h5\"\n",
    "test_file_name: str = \"3dshapes_abstraction_test.h5\"\n",
    "\n",
    "train_file_path: str = os.path.join(data_directory, train_file_name)\n",
    "test_file_path: str = os.path.join(data_directory, test_file_name)\n",
    "\n",
    "_FACTORS_IN_ORDER: list[str] = [\n",
    "    'floor_hue', \n",
    "    'wall_hue', \n",
    "    'object_hue', \n",
    "    'scale', \n",
    "    'shape',                 \n",
    "    'orientation'\n",
    "]\n",
    "_NUM_VALUES_PER_FACTOR: dict[str, int] = {\n",
    "    'floor_hue': 10, \n",
    "    'wall_hue': 10, \n",
    "    'object_hue': 10,\n",
    "    'scale': 8, \n",
    "    'shape': 4,\n",
    "    'orientation': 15\n",
    "}\n"
   ]
  },
  {
   "cell_type": "markdown",
   "metadata": {},
   "source": [
    "Load dataset file contents from H5 files."
   ]
  },
  {
   "cell_type": "code",
   "execution_count": 3,
   "metadata": {},
   "outputs": [],
   "source": [
    "train_dataset: h5py.File = h5py.File(train_file_path, 'r')\n",
    "test_dataset: h5py.File = h5py.File(test_file_path, 'r')"
   ]
  },
  {
   "cell_type": "markdown",
   "metadata": {},
   "source": [
    "## Encoder Architecture Definition\n",
    "\n",
    "We use a ResNet18 architecture, trained from scratch, as our encoder.  Instead of the standard classification layer, we replace the final ResNet layer with a fully connected layer. This layer maps the 512-dimensional ResNet output to a lower-dimensional embedding representing the image's attributes: `floor_hue`, `wall_hue`, `object_hue`, `scale`, `shape`, and `orientation`."
   ]
  },
  {
   "cell_type": "code",
   "execution_count": 4,
   "metadata": {},
   "outputs": [],
   "source": [
    "class ResNetBlock(nn.Module):\n",
    "    def __init__(self, in_channels: int, out_channels: int, stride: int):\n",
    "        super(ResNetBlock, self).__init__()\n",
    "\n",
    "        # Convolutional layer 1\n",
    "        self.conv1: nn.Conv2d = nn.Conv2d(\n",
    "            in_channels, out_channels,\n",
    "            kernel_size=3, stride=stride, padding=1, bias=False)\n",
    "\n",
    "        # Batch normalization\n",
    "        self.bn1: nn.BatchNorm2d = nn.BatchNorm2d(out_channels)\n",
    "\n",
    "        # Convolutional layer 2\n",
    "        self.conv2: nn.Conv2d = nn.Conv2d(\n",
    "            out_channels, out_channels,\n",
    "            kernel_size=3, stride=1, padding=1, bias=False)\n",
    "\n",
    "        # Batch normalization\n",
    "        self.bn2: nn.BatchNorm2d = nn.BatchNorm2d(out_channels)\n",
    "\n",
    "        # ReLU activation function\n",
    "        self.relu: nn.ReLU = nn.ReLU(inplace=True)\n",
    "\n",
    "        # Shortcut or skip connection\n",
    "        self.shortcut: nn.Sequential = nn.Sequential()\n",
    "        if stride != 1 or in_channels != out_channels:\n",
    "            self.shortcut = nn.Sequential(\n",
    "                nn.Conv2d(in_channels, out_channels, kernel_size=1,\n",
    "                          stride=stride, bias=False),\n",
    "                nn.BatchNorm2d(out_channels)\n",
    "            )\n",
    "\n",
    "    def forward(self, x: torch.Tensor) -> torch.Tensor:\n",
    "        out: torch.Tensor = self.relu(self.bn1(self.conv1(x)))\n",
    "        out = self.bn2(self.conv2(out))\n",
    "        out += self.shortcut(x)\n",
    "        out = self.relu(out)\n",
    "        return out"
   ]
  },
  {
   "cell_type": "code",
   "execution_count": 5,
   "metadata": {},
   "outputs": [],
   "source": [
    "class ResNet18Encoder(nn.Module):\n",
    "    def __init__(self, out_features=6):\n",
    "        super(ResNet18Encoder, self).__init__()\n",
    "        self.in_channels: int = 64\n",
    "        self.conv1: nn.Conv2d = nn.Conv2d(\n",
    "            3, 64, kernel_size=3, stride=1, padding=1, bias=False)\n",
    "        self.bn1: nn.BatchNorm2d = nn.BatchNorm2d(64)\n",
    "        self.relu: nn.ReLU = nn.ReLU(inplace=True)\n",
    "        self.maxpool: nn.MaxPool2d = nn.MaxPool2d(\n",
    "            kernel_size=3, stride=2, padding=1)\n",
    "\n",
    "        self.layer1: nn.Sequential = self._make_layer(\n",
    "            ResNetBlock, 64, 2, stride=1)\n",
    "        self.layer2: nn.Sequential = self._make_layer(\n",
    "            ResNetBlock, 128, 2, stride=2)\n",
    "        self.layer3: nn.Sequential = self._make_layer(\n",
    "            ResNetBlock, 256, 2, stride=2)\n",
    "        self.layer4: nn.Sequential = self._make_layer(\n",
    "            ResNetBlock, 512, 2, stride=2)\n",
    "\n",
    "        self.avgpool = nn.AdaptiveAvgPool2d((1, 1))\n",
    "        self.fc = nn.Linear(512, out_features)\n",
    "\n",
    "    def _make_layer(self, block, out_channels, num_blocks, stride) -> nn.Sequential:\n",
    "        strides = [stride] + [1] * (num_blocks - 1)\n",
    "        layers = []\n",
    "        for stride in strides:\n",
    "            layers.append(block(self.in_channels, out_channels, stride))\n",
    "            self.in_channels = out_channels\n",
    "        return nn.Sequential(*layers)\n",
    "\n",
    "    def forward(self, x: torch.Tensor) -> torch.Tensor:\n",
    "        out: torch.Tensor = self.conv1(x)\n",
    "        out = self.bn1(out)\n",
    "        out = self.relu(out)\n",
    "        out = self.maxpool(out)\n",
    "\n",
    "        out = self.layer1(out)\n",
    "        out = self.layer2(out)\n",
    "        out = self.layer3(out)\n",
    "        out = self.layer4(out)\n",
    "\n",
    "        out = self.avgpool(out)\n",
    "        out = out.view(out.size(0), -1)\n",
    "        out = self.fc(out)\n",
    "        return out\n"
   ]
  },
  {
   "cell_type": "markdown",
   "metadata": {},
   "source": [
    "Instantiate the data as tensors."
   ]
  },
  {
   "cell_type": "code",
   "execution_count": 6,
   "metadata": {},
   "outputs": [
    {
     "name": "stdout",
     "output_type": "stream",
     "text": [
      "Loading the training data...\n",
      "Loading the test data...\n"
     ]
    },
    {
     "name": "stderr",
     "output_type": "stream",
     "text": [
      "/tmp/ipykernel_319010/2488680182.py:11: UserWarning: Creating a tensor from a list of numpy.ndarrays is extremely slow. Please consider converting the list to a single numpy.ndarray with numpy.array() before converting to a tensor. (Triggered internally at ../torch/csrc/utils/tensor_new.cpp:278.)\n",
      "  train_labels: np.ndarray = torch.tensor(get_instances(train_dataset['labels']))\n"
     ]
    }
   ],
   "source": [
    "INSTANCES: int = 40_000\n",
    "TOTAL: int = 480_000\n",
    "\n",
    "get_instances = lambda x : list(itertools.chain.from_iterable([x[i:i+INSTANCES] for i in range(0, TOTAL//INSTANCES, 2)]))\n",
    "\n",
    "print(\"Loading the training data...\")\n",
    "train_images: np.ndarray = torch.tensor(np.transpose(get_instances(train_dataset['images']), (0, 3, 1, 2)))\n",
    "test_images: np.ndarray = torch.tensor(np.transpose(get_instances(test_dataset['images']), (0, 3, 1, 2)))\n",
    "\n",
    "print(\"Loading the test data...\")\n",
    "train_labels: np.ndarray = torch.tensor(get_instances(train_dataset['labels']))\n",
    "test_labels: np.ndarray = torch.tensor(get_instances(test_dataset['labels']))"
   ]
  },
  {
   "cell_type": "markdown",
   "metadata": {},
   "source": [
    "Define relevant parameters for training."
   ]
  },
  {
   "cell_type": "code",
   "execution_count": 7,
   "metadata": {},
   "outputs": [],
   "source": [
    "BATCH_SIZE: int = 256\n",
    "EPOCHS: int = 5\n",
    "LEARNING_RATE: float = 0.001\n",
    "DEVICE: str = 'cuda' if torch.cuda.is_available() else 'cpu'"
   ]
  },
  {
   "cell_type": "markdown",
   "metadata": {},
   "source": [
    "Instantiate data loaders."
   ]
  },
  {
   "cell_type": "code",
   "execution_count": 8,
   "metadata": {},
   "outputs": [],
   "source": [
    "train_loader: torch.utils.data.DataLoader = torch.utils.data.DataLoader(\n",
    "    torch.utils.data.TensorDataset(train_images, train_labels),\n",
    "    batch_size=BATCH_SIZE, shuffle=True)\n",
    "test_loader: torch.utils.data.DataLoader = torch.utils.data.DataLoader(\n",
    "    torch.utils.data.TensorDataset(test_images, test_labels),\n",
    "    batch_size=BATCH_SIZE, shuffle=False)"
   ]
  },
  {
   "cell_type": "markdown",
   "metadata": {},
   "source": [
    "Define a training function."
   ]
  },
  {
   "cell_type": "code",
   "execution_count": 11,
   "metadata": {},
   "outputs": [],
   "source": [
    "def get_latent_stats(train_loader) -> dict[str, list[float]]:\n",
    "    latents_all = []\n",
    "    for _, latents in train_loader:\n",
    "        latents_all.append(latents.numpy())\n",
    "    latents_all = np.concatenate(latents_all, axis=0)\n",
    "    latent_mean = np.mean(latents_all, axis=0)\n",
    "    latent_std = np.std(latents_all, axis=0)\n",
    "    latent_std[latent_std == 0] = 1e-6 \n",
    "    return latent_mean, latent_std\n",
    "\n",
    "def get_min_max_latents(train_loader) -> dict[str, list[float]]:\n",
    "    latents_all = []\n",
    "    for _, latents in train_loader:\n",
    "        latents_all.append(latents.numpy())\n",
    "    latents_all = np.concatenate(latents_all, axis=0)\n",
    "    latent_min = np.min(latents_all, axis=0)\n",
    "    latent_max = np.max(latents_all, axis=0)\n",
    "    return latent_min, latent_max\n",
    "\n",
    "def train_model(model, train_loader, test_loader, EPOCHS, LEARNING_RATE, criterion=nn.CosineEmbeddingLoss(), optimizer_class=torch.optim.Adam, optimizer_params=None) -> dict:\n",
    "    model.to(DEVICE)\n",
    "    latent_mean, latent_std = get_latent_stats(train_loader)\n",
    "    min_latent, max_latent = get_min_max_latents(train_loader)\n",
    "    max_latent = torch.tensor(max_latent).to(DEVICE)\n",
    "    min_latent = torch.tensor(min_latent).to(DEVICE)\n",
    "    print(f'Latent mean: {latent_mean}')\n",
    "    print(f'Latent std: {latent_std}')\n",
    "    if optimizer_params is None:\n",
    "        optimizer_params = {}\n",
    "    optimizer = optimizer_class(model.parameters(), lr=LEARNING_RATE, **optimizer_params)\n",
    "\n",
    "    training_metrics = {'loss_per_epoch': [], 'test_loss_per_epoch': [], 'training_time': [], 'mae_per_component': []}\n",
    "\n",
    "    for epoch in range(EPOCHS):\n",
    "        epoch_loss = 0.0\n",
    "        start_time = time.time()\n",
    "\n",
    "        model.train()\n",
    "        with tqdm(train_loader, desc=f\"Epoch {epoch+1}/{EPOCHS} (Train)\", unit=\"batch\") as tepoch:\n",
    "            for images, latents in tepoch:\n",
    "                images = images.to(DEVICE).float() / 255.0\n",
    "                # latents = (latents.to(DEVICE) - torch.tensor(latent_mean).to(DEVICE)) / torch.tensor(latent_std).to(DEVICE)\n",
    "                latents = (latents.to(DEVICE) - min_latent) / max_latent - min_latent\n",
    "                outputs = model(images)\n",
    "                ones = torch.ones(latents.shape[0]).to(DEVICE)\n",
    "                loss = criterion(outputs, latents, ones)\n",
    "                optimizer.zero_grad()\n",
    "                loss.backward()\n",
    "                optimizer.step()\n",
    "                epoch_loss += loss.item()\n",
    "                tepoch.set_postfix(loss=loss.item())\n",
    "\n",
    "        average_epoch_loss = epoch_loss / len(train_loader)\n",
    "        training_metrics['loss_per_epoch'].append(average_epoch_loss)\n",
    "\n",
    "\n",
    "        test_loss = 0.0\n",
    "        mae_per_component = np.zeros(6) # Inicializar MAE para cada componente\n",
    "        model.eval()\n",
    "        with torch.no_grad():\n",
    "            with tqdm(test_loader, desc=f\"Epoch {epoch+1}/{EPOCHS} (Test)\", unit=\"batch\") as tepoch:\n",
    "                for images, latents in tepoch:\n",
    "                    images = images.to(DEVICE).float() / 255.0\n",
    "                    # latents = (latents.to(DEVICE) - torch.tensor(latent_mean).to(DEVICE)) / torch.tensor(latent_std).to(DEVICE)\n",
    "                    latents = (latents.to(DEVICE) - min_latent / max_latent - min_latent)\n",
    "                    outputs = model(images)\n",
    "                    ones = torch.ones(latents.shape[0]).to(DEVICE)\n",
    "                    loss = criterion(outputs, latents, ones)\n",
    "                    test_loss += loss.item()\n",
    "                    tepoch.set_postfix(loss=loss.item())\n",
    "\n",
    "                    # Calcular MAE para cada componente\n",
    "                    mae_per_component += np.mean(np.abs(outputs.cpu().numpy() - latents.cpu().numpy()), axis=0)\n",
    "\n",
    "\n",
    "        average_test_loss = test_loss / len(test_loader)\n",
    "        training_metrics['test_loss_per_epoch'].append(average_test_loss)\n",
    "        training_metrics['mae_per_component'].append(mae_per_component / len(test_loader)) # Agregar MAE promedio por época\n",
    "\n",
    "\n",
    "        end_time = time.time()\n",
    "        epoch_time = end_time - start_time\n",
    "        training_metrics['training_time'].append(epoch_time)\n",
    "\n",
    "        print(f'Epoch [{epoch+1}/{EPOCHS}], Train Loss: {average_epoch_loss:.4f}, Test Loss: {average_test_loss:.4f}, Time: {epoch_time:.2f}s')\n",
    "        print(f'MAE per component: {training_metrics[\"mae_per_component\"][-1]}') # Imprimir MAE por componente de la época actual\n",
    "\n",
    "    return training_metrics\n",
    "\n"
   ]
  },
  {
   "cell_type": "markdown",
   "metadata": {},
   "source": [
    "Train the model."
   ]
  },
  {
   "cell_type": "code",
   "execution_count": 12,
   "metadata": {},
   "outputs": [
    {
     "name": "stdout",
     "output_type": "stream",
     "text": [
      "Latent mean: [4.00125000e-02 3.84075000e-01 4.43475000e-01 9.99669643e-01\n",
      " 4.99912500e-01 2.67857143e-04]\n",
      "Latent std: [ 0.04899234  0.26632948  0.28585822  0.16357343  0.49999999 18.516247  ]\n"
     ]
    },
    {
     "name": "stderr",
     "output_type": "stream",
     "text": [
      "Epoch 1/5 (Train): 100%|██████████| 938/938 [02:09<00:00,  7.23batch/s, loss=3.88e-5] \n",
      "Epoch 1/5 (Test): 100%|██████████| 938/938 [00:41<00:00, 22.67batch/s, loss=0.0533]\n"
     ]
    },
    {
     "name": "stdout",
     "output_type": "stream",
     "text": [
      "Epoch [1/5], Train Loss: 0.0025, Test Loss: 0.0493, Time: 171.17s\n",
      "MAE per component: [ 0.02945368  0.30537668  0.36555864  0.2777411   2.31686422 26.43343537]\n"
     ]
    },
    {
     "name": "stderr",
     "output_type": "stream",
     "text": [
      "Epoch 2/5 (Train): 100%|██████████| 938/938 [02:05<00:00,  7.46batch/s, loss=1.91e-5]\n",
      "Epoch 2/5 (Test): 100%|██████████| 938/938 [00:38<00:00, 24.34batch/s, loss=0.0537]\n"
     ]
    },
    {
     "name": "stdout",
     "output_type": "stream",
     "text": [
      "Epoch [2/5], Train Loss: 0.0000, Test Loss: 0.0496, Time: 164.27s\n",
      "MAE per component: [ 0.04669061  0.28707898  0.36296397  0.26419483  2.28304247 25.34115972]\n"
     ]
    },
    {
     "name": "stderr",
     "output_type": "stream",
     "text": [
      "Epoch 3/5 (Train): 100%|██████████| 938/938 [01:56<00:00,  8.03batch/s, loss=8.88e-6]\n",
      "Epoch 3/5 (Test): 100%|██████████| 938/938 [00:41<00:00, 22.55batch/s, loss=0.0535]\n"
     ]
    },
    {
     "name": "stdout",
     "output_type": "stream",
     "text": [
      "Epoch [3/5], Train Loss: 0.0000, Test Loss: 0.0492, Time: 158.47s\n",
      "MAE per component: [ 0.06358673  0.27217042  0.35361997  0.25786105  2.2403758  24.85260036]\n"
     ]
    },
    {
     "name": "stderr",
     "output_type": "stream",
     "text": [
      "Epoch 4/5 (Train): 100%|██████████| 938/938 [02:07<00:00,  7.37batch/s, loss=1.46e-5]\n",
      "Epoch 4/5 (Test): 100%|██████████| 938/938 [00:39<00:00, 23.78batch/s, loss=0.0532]\n"
     ]
    },
    {
     "name": "stdout",
     "output_type": "stream",
     "text": [
      "Epoch [4/5], Train Loss: 0.0000, Test Loss: 0.0488, Time: 166.76s\n",
      "MAE per component: [ 0.09277824  0.26505615  0.34013517  0.21470508  2.19448217 24.41965026]\n"
     ]
    },
    {
     "name": "stderr",
     "output_type": "stream",
     "text": [
      "Epoch 5/5 (Train): 100%|██████████| 938/938 [01:58<00:00,  7.91batch/s, loss=1.15e-5]\n",
      "Epoch 5/5 (Test): 100%|██████████| 938/938 [00:41<00:00, 22.56batch/s, loss=0.0531]"
     ]
    },
    {
     "name": "stdout",
     "output_type": "stream",
     "text": [
      "Epoch [5/5], Train Loss: 0.0000, Test Loss: 0.0487, Time: 160.17s\n",
      "MAE per component: [ 0.07568441  0.27191582  0.33326057  0.20907131  2.16282884 23.85203244]\n"
     ]
    },
    {
     "name": "stderr",
     "output_type": "stream",
     "text": [
      "\n"
     ]
    }
   ],
   "source": [
    "model: ResNet18Encoder = ResNet18Encoder(out_features=6)\n",
    "training_metrics: dict[str, list[float]] = train_model(model, train_loader, test_loader, EPOCHS, LEARNING_RATE)"
   ]
  },
  {
   "cell_type": "code",
   "execution_count": 13,
   "metadata": {},
   "outputs": [],
   "source": [
    "def plot_metrics(training_metrics):\n",
    "    \"\"\"\n",
    "    Grafica las métricas de entrenamiento usando Matplotlib.\n",
    "\n",
    "    Args:\n",
    "        training_metrics (dict): Diccionario con las métricas de entrenamiento.\n",
    "    \"\"\"\n",
    "\n",
    "    epochs = range(1, len(training_metrics['loss_per_epoch']) + 1)\n",
    "\n",
    "    # Gráfica de Pérdida de Entrenamiento y Prueba\n",
    "    plt.figure(figsize=(10, 5))\n",
    "    plt.plot(epochs, training_metrics['loss_per_epoch'], label='Train Loss')\n",
    "    plt.plot(epochs, training_metrics['test_loss_per_epoch'], label='Test Loss')\n",
    "    plt.xlabel('Epoch')\n",
    "    plt.ylabel('Loss')\n",
    "    plt.title('Training and Test Loss')\n",
    "    plt.legend()\n",
    "    plt.grid(True)\n",
    "\n",
    "\n",
    "    # Gráfica de MAE por Componente\n",
    "    plt.figure(figsize=(10, 5))\n",
    "    for i in range(6):\n",
    "        plt.plot(epochs, [epoch_mae[i] for epoch_mae in training_metrics['mae_per_component']], label=_FACTORS_IN_ORDER[i])\n",
    "    plt.xlabel('Epoch')\n",
    "    plt.ylabel('MAE')\n",
    "    plt.title('Mean Absolute Error per Component')\n",
    "    plt.legend()\n",
    "    plt.grid(True)\n",
    "\n",
    "    plt.show()"
   ]
  },
  {
   "cell_type": "code",
   "execution_count": 14,
   "metadata": {},
   "outputs": [
    {
     "data": {
      "image/png": "[encoded data removed]",
      "text/plain": [
       "<Figure size 1000x500 with 1 Axes>"
      ]
     },
     "metadata": {},
     "output_type": "display_data"
    },
    {
     "data": {
      "image/png": "[encoded data removed]",
      "text/plain": [
       "<Figure size 1000x500 with 1 Axes>"
      ]
     },
     "metadata": {},
     "output_type": "display_data"
    }
   ],
   "source": [
    "plot_metrics(training_metrics)"
   ]
  },
  {
   "cell_type": "code",
   "execution_count": 15,
   "metadata": {},
   "outputs": [],
   "source": [
    "# def predict(model, image, latent_mean, latent_std):\n",
    "def predict(model, image, min_latent, max_latent):\n",
    "    \"\"\"\n",
    "    Realiza una predicción sobre una imagen y desnormaliza el resultado.\n",
    "\n",
    "    Args:\n",
    "        model: El modelo entrenado.\n",
    "        image: La imagen de entrada (tensor).\n",
    "        latent_mean (torch.Tensor): La media de los latents.\n",
    "        latent_std (torch.Tensor): La desviación estándar de los latents.\n",
    "\n",
    "    Returns:\n",
    "        torch.Tensor: El vector latente predicho y desnormalizado.\n",
    "    \"\"\"\n",
    "    model.eval()\n",
    "    with torch.no_grad():\n",
    "        image = torch.tensor(image).to(DEVICE).float() / 255.0\n",
    "        image = image.permute(2, 0, 1).unsqueeze(0)  # Permutar dimensiones y agregar batch\n",
    "        predicted_latent_normalized = model(image)\n",
    "        # predicted_latent = predicted_latent_normalized * torch.tensor(latent_std).to(DEVICE) + torch.tensor(latent_mean).to(DEVICE)\n",
    "        predicted_latent = predicted_latent_normalized * (torch.tensor(max_latent) - torch.tensor(min_latent)) + torch.tensor\n",
    "        return predicted_latent"
   ]
  },
  {
   "cell_type": "code",
   "execution_count": 16,
   "metadata": {},
   "outputs": [
    {
     "name": "stderr",
     "output_type": "stream",
     "text": [
      "/tmp/ipykernel_319010/1312107936.py:21: UserWarning: To copy construct from a tensor, it is recommended to use sourceTensor.clone().detach() or sourceTensor.clone().detach().requires_grad_(True), rather than torch.tensor(sourceTensor).\n",
      "  predicted_latent = predicted_latent_normalized * (torch.tensor(max_latent) - torch.tensor(min_latent)) + torch.tensor\n"
     ]
    },
    {
     "ename": "TypeError",
     "evalue": "unsupported operand type(s) for +: 'Tensor' and 'builtin_function_or_method'",
     "output_type": "error",
     "traceback": [
      "\u001b[0;31m---------------------------------------------------------------------------\u001b[0m",
      "\u001b[0;31mTypeError\u001b[0m                                 Traceback (most recent call last)",
      "Cell \u001b[0;32mIn[16], line 7\u001b[0m\n\u001b[1;32m      5\u001b[0m image \u001b[38;5;241m=\u001b[39m test_dataset[\u001b[38;5;124m'\u001b[39m\u001b[38;5;124mimages\u001b[39m\u001b[38;5;124m'\u001b[39m][\u001b[38;5;241m0\u001b[39m]\n\u001b[1;32m      6\u001b[0m \u001b[38;5;66;03m# predicted_latent = predict(model, image, latent_mean, latent_std).squeeze()\u001b[39;00m\n\u001b[0;32m----> 7\u001b[0m predicted_latent \u001b[38;5;241m=\u001b[39m \u001b[43mpredict\u001b[49m\u001b[43m(\u001b[49m\u001b[43mmodel\u001b[49m\u001b[43m,\u001b[49m\u001b[43m \u001b[49m\u001b[43mimage\u001b[49m\u001b[43m,\u001b[49m\u001b[43m \u001b[49m\u001b[43mmin_latent\u001b[49m\u001b[43m,\u001b[49m\u001b[43m \u001b[49m\u001b[43mmax_latent\u001b[49m\u001b[43m)\u001b[49m\u001b[38;5;241m.\u001b[39msqueeze()\n\u001b[1;32m      8\u001b[0m expected_latent \u001b[38;5;241m=\u001b[39m test_dataset[\u001b[38;5;124m'\u001b[39m\u001b[38;5;124mlabels\u001b[39m\u001b[38;5;124m'\u001b[39m][\u001b[38;5;241m0\u001b[39m]\u001b[38;5;241m.\u001b[39msqueeze()\n\u001b[1;32m      9\u001b[0m \u001b[38;5;28;01mfor\u001b[39;00m i, factor_name \u001b[38;5;129;01min\u001b[39;00m \u001b[38;5;28menumerate\u001b[39m(_FACTORS_IN_ORDER):\n",
      "Cell \u001b[0;32mIn[15], line 21\u001b[0m, in \u001b[0;36mpredict\u001b[0;34m(model, image, min_latent, max_latent)\u001b[0m\n\u001b[1;32m     19\u001b[0m predicted_latent_normalized \u001b[38;5;241m=\u001b[39m model(image)\n\u001b[1;32m     20\u001b[0m \u001b[38;5;66;03m# predicted_latent = predicted_latent_normalized * torch.tensor(latent_std).to(DEVICE) + torch.tensor(latent_mean).to(DEVICE)\u001b[39;00m\n\u001b[0;32m---> 21\u001b[0m predicted_latent \u001b[38;5;241m=\u001b[39m \u001b[43mpredicted_latent_normalized\u001b[49m\u001b[43m \u001b[49m\u001b[38;5;241;43m*\u001b[39;49m\u001b[43m \u001b[49m\u001b[43m(\u001b[49m\u001b[43mtorch\u001b[49m\u001b[38;5;241;43m.\u001b[39;49m\u001b[43mtensor\u001b[49m\u001b[43m(\u001b[49m\u001b[43mmax_latent\u001b[49m\u001b[43m)\u001b[49m\u001b[43m \u001b[49m\u001b[38;5;241;43m-\u001b[39;49m\u001b[43m \u001b[49m\u001b[43mtorch\u001b[49m\u001b[38;5;241;43m.\u001b[39;49m\u001b[43mtensor\u001b[49m\u001b[43m(\u001b[49m\u001b[43mmin_latent\u001b[49m\u001b[43m)\u001b[49m\u001b[43m)\u001b[49m\u001b[43m \u001b[49m\u001b[38;5;241;43m+\u001b[39;49m\u001b[43m \u001b[49m\u001b[43mtorch\u001b[49m\u001b[38;5;241;43m.\u001b[39;49m\u001b[43mtensor\u001b[49m\n\u001b[1;32m     22\u001b[0m \u001b[38;5;28;01mreturn\u001b[39;00m predicted_latent\n",
      "\u001b[0;31mTypeError\u001b[0m: unsupported operand type(s) for +: 'Tensor' and 'builtin_function_or_method'"
     ]
    }
   ],
   "source": [
    "latent_mean, latent_std = get_latent_stats(train_loader)\n",
    "min_latent, max_latent = get_min_max_latents(train_loader)\n",
    "min_latent = torch.tensor(min_latent).to(DEVICE)\n",
    "max_latent = torch.tensor(max_latent).to(DEVICE)\n",
    "image = test_dataset['images'][0]\n",
    "# predicted_latent = predict(model, image, latent_mean, latent_std).squeeze()\n",
    "predicted_latent = predict(model, image, min_latent, max_latent).squeeze()\n",
    "expected_latent = test_dataset['labels'][0].squeeze()\n",
    "for i, factor_name in enumerate(_FACTORS_IN_ORDER):\n",
    "    print(f\"{factor_name}: {expected_latent[i]} -> {predicted_latent[i]}\")"
   ]
  },
  {
   "cell_type": "code",
   "execution_count": 17,
   "metadata": {},
   "outputs": [],
   "source": [
    "def save_metrics_to_csv(training_metrics, filename=\"training_metrics.csv\"):\n",
    "    \"\"\"\n",
    "    Guarda las métricas de entrenamiento en un archivo CSV.\n",
    "\n",
    "    Args:\n",
    "        training_metrics (dict): Diccionario con las métricas de entrenamiento.\n",
    "        filename (str): Nombre del archivo CSV (default: \"training_metrics.csv\").\n",
    "    \"\"\"\n",
    "\n",
    "    epochs = range(1, len(training_metrics['loss_per_epoch']) + 1)\n",
    "\n",
    "    with open(filename, 'w', newline='') as csvfile:\n",
    "        writer = csv.writer(csvfile)\n",
    "\n",
    "        # Escribir encabezado\n",
    "        header = ['Epoch', 'Train Loss', 'Test Loss', 'Training Time (s)']\n",
    "        for i in range(6):\n",
    "            header.append(f'MAE Component {i+1}')\n",
    "        writer.writerow(header)\n",
    "\n",
    "        # Escribir datos por época\n",
    "        for epoch, train_loss, test_loss, train_time, mae_per_component in zip(\n",
    "            epochs,\n",
    "            training_metrics['loss_per_epoch'],\n",
    "            training_metrics['test_loss_per_epoch'],\n",
    "            training_metrics['training_time'],\n",
    "            training_metrics['mae_per_component']\n",
    "        ):\n",
    "            row = [epoch, train_loss, test_loss, train_time]\n",
    "            row.extend(mae_per_component)\n",
    "            writer.writerow(row)\n"
   ]
  },
  {
   "cell_type": "code",
   "execution_count": 18,
   "metadata": {},
   "outputs": [],
   "source": [
    "save_metrics_to_csv(training_metrics)"
   ]
  }
 ],
 "metadata": {
  "kernelspec": {
   "display_name": ".venv",
   "language": "python",
   "name": "python3"
  },
  "language_info": {
   "codemirror_mode": {
    "name": "ipython",
    "version": 3
   },
   "file_extension": ".py",
   "mimetype": "text/x-python",
   "name": "python",
   "nbconvert_exporter": "python",
   "pygments_lexer": "ipython3",
   "version": "3.10.12"
  }
 },
 "nbformat": 4,
 "nbformat_minor": 2
}
